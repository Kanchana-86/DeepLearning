{
 "cells": [
  {
   "cell_type": "code",
   "execution_count": 1,
   "id": "e9606384-e3d8-4288-9c78-a88228fd35fa",
   "metadata": {},
   "outputs": [],
   "source": [
    "import pandas as pd\n",
    "import os\n",
    "import torch\n",
    "import time\n",
    "import torchvision\n",
    "import torch.nn as nn\n",
    "import numpy as np\n",
    "import torch.nn.functional as F\n",
    "from torchvision.datasets.utils import download_url\n",
    "from torchvision.datasets import ImageFolder\n",
    "from torch.utils.data import DataLoader\n",
    "import torchvision.transforms as tt\n",
    "from torch.utils.data import random_split\n",
    "from torchvision.utils import make_grid\n",
    "import torchvision.models as models\n",
    "import matplotlib.pyplot as plt\n",
    "from sklearn.metrics import *\n",
    "\n",
    "%matplotlib inline"
   ]
  },
  {
   "cell_type": "code",
   "execution_count": 2,
   "id": "9c09e428-d25d-4a62-8473-48740f330186",
   "metadata": {},
   "outputs": [],
   "source": [
    "batch_size = 400\n",
    "epochs = 120\n",
    "max_lr = 0.001\n",
    "grad_clip = 0.01\n",
    "weight_decay =0.001\n",
    "opt_func = torch.optim.Adam"
   ]
  },
  {
   "cell_type": "code",
   "execution_count": 3,
   "id": "70c487c7-0d13-4051-a9f0-0346d8d8f8f3",
   "metadata": {},
   "outputs": [
    {
     "name": "stdout",
     "output_type": "stream",
     "text": [
      "Files already downloaded and verified\n"
     ]
    }
   ],
   "source": [
    "train_data = torchvision.datasets.CIFAR100('./', train=True, download=True)\n",
    "\n",
    "# Stick all the images together to form a 1600000 X 32 X 3 array\n",
    "x = np.concatenate([np.asarray(train_data[i][0]) for i in range(len(train_data))])\n",
    "\n",
    "# calculate the mean and std along the (0, 1) axes\n",
    "mean = np.mean(x, axis=(0, 1))/255\n",
    "std = np.std(x, axis=(0, 1))/255\n",
    "# the the mean and std\n",
    "mean=mean.tolist()\n",
    "std=std.tolist()"
   ]
  },
  {
   "cell_type": "code",
   "execution_count": 4,
   "id": "6afeeb91-907a-48db-8934-5b12271f5b42",
   "metadata": {},
   "outputs": [],
   "source": [
    "transform_train = tt.Compose([tt.RandomCrop(32, padding=4,padding_mode='reflect'), \n",
    "                         tt.RandomHorizontalFlip(), \n",
    "                         tt.ToTensor(), \n",
    "                         tt.Normalize(mean,std,inplace=True)])\n",
    "transform_test = tt.Compose([tt.ToTensor(), tt.Normalize(mean,std)])"
   ]
  },
  {
   "cell_type": "code",
   "execution_count": 5,
   "id": "c7fc730a-efc1-4e0a-a254-7552ed310860",
   "metadata": {},
   "outputs": [
    {
     "name": "stdout",
     "output_type": "stream",
     "text": [
      "Files already downloaded and verified\n",
      "Files already downloaded and verified\n"
     ]
    }
   ],
   "source": [
    "trainset = torchvision.datasets.CIFAR100(\"./\",\n",
    "                                         train=True,\n",
    "                                         download=True,\n",
    "                                         transform=transform_train)\n",
    "trainloader = torch.utils.data.DataLoader(\n",
    "    trainset, batch_size, shuffle=True, num_workers=2,pin_memory=True)\n",
    "\n",
    "testset = torchvision.datasets.CIFAR100(\"./\",\n",
    "                                        train=False,\n",
    "                                        download=True,\n",
    "                                        transform=transform_test)\n",
    "testloader = torch.utils.data.DataLoader(\n",
    "    testset, batch_size*2,pin_memory=True, num_workers=2)"
   ]
  },
  {
   "cell_type": "code",
   "execution_count": 6,
   "id": "54ffd342-7daa-4eaf-8b42-d2ad83a85154",
   "metadata": {},
   "outputs": [],
   "source": [
    "def get_default_device():\n",
    "    \"\"\"Pick GPU if available, else CPU\"\"\"\n",
    "    if torch.cuda.is_available():\n",
    "        return torch.device('cuda')\n",
    "    else:\n",
    "        return torch.device('cpu')\n",
    "    \n",
    "def to_device(data, device):\n",
    "    \"\"\"Move tensor(s) to chosen device\"\"\"\n",
    "    if isinstance(data, (list,tuple)):\n",
    "        return [to_device(x, device) for x in data]\n",
    "    return data.to(device, non_blocking=True)\n",
    "\n",
    "class DeviceDataLoader():\n",
    "    \"\"\"Wrap a dataloader to move data to a device\"\"\"\n",
    "    def __init__(self, dl, device):\n",
    "        self.dl = dl\n",
    "        self.device = device\n",
    "        \n",
    "    def __iter__(self):\n",
    "        \"\"\"Yield a batch of data after moving it to device\"\"\"\n",
    "        for b in self.dl: \n",
    "            yield to_device(b, self.device)\n",
    "\n",
    "    def __len__(self):\n",
    "        \"\"\"Number of batches\"\"\"\n",
    "        return len(self.dl)"
   ]
  },
  {
   "cell_type": "code",
   "execution_count": 7,
   "id": "bfcf76a4-9d5c-4305-9b77-2dcbcc55c65a",
   "metadata": {},
   "outputs": [
    {
     "data": {
      "text/plain": [
       "device(type='cuda')"
      ]
     },
     "execution_count": 7,
     "metadata": {},
     "output_type": "execute_result"
    }
   ],
   "source": [
    "device = get_default_device()\n",
    "device"
   ]
  },
  {
   "cell_type": "code",
   "execution_count": 8,
   "id": "b5bf16fb-f148-424e-a81d-71dcd5429c6f",
   "metadata": {},
   "outputs": [],
   "source": [
    "trainloader = DeviceDataLoader(trainloader, device)\n",
    "testloader = DeviceDataLoader(testloader, device)"
   ]
  },
  {
   "cell_type": "markdown",
   "id": "17c628db-7828-4fa4-80cc-bac59215d365",
   "metadata": {},
   "source": [
    "Layer Setup"
   ]
  },
  {
   "cell_type": "code",
   "execution_count": 9,
   "id": "71647492-512c-4359-a131-835385d03807",
   "metadata": {},
   "outputs": [
    {
     "data": {
      "text/plain": [
       "ResNet9(\n",
       "  (conv1): Sequential(\n",
       "    (0): Conv2d(3, 64, kernel_size=(3, 3), stride=(1, 1), padding=(1, 1))\n",
       "    (1): BatchNorm2d(64, eps=1e-05, momentum=0.1, affine=True, track_running_stats=True)\n",
       "    (2): ReLU(inplace=True)\n",
       "  )\n",
       "  (conv2): Sequential(\n",
       "    (0): Conv2d(64, 128, kernel_size=(3, 3), stride=(1, 1), padding=(1, 1))\n",
       "    (1): BatchNorm2d(128, eps=1e-05, momentum=0.1, affine=True, track_running_stats=True)\n",
       "    (2): ReLU(inplace=True)\n",
       "    (3): MaxPool2d(kernel_size=2, stride=2, padding=0, dilation=1, ceil_mode=False)\n",
       "  )\n",
       "  (res1): Sequential(\n",
       "    (0): Sequential(\n",
       "      (0): Conv2d(128, 128, kernel_size=(3, 3), stride=(1, 1), padding=(1, 1))\n",
       "      (1): BatchNorm2d(128, eps=1e-05, momentum=0.1, affine=True, track_running_stats=True)\n",
       "      (2): ReLU(inplace=True)\n",
       "    )\n",
       "    (1): Sequential(\n",
       "      (0): Conv2d(128, 128, kernel_size=(3, 3), stride=(1, 1), padding=(1, 1))\n",
       "      (1): BatchNorm2d(128, eps=1e-05, momentum=0.1, affine=True, track_running_stats=True)\n",
       "      (2): ReLU(inplace=True)\n",
       "    )\n",
       "  )\n",
       "  (conv3): Sequential(\n",
       "    (0): Conv2d(128, 256, kernel_size=(3, 3), stride=(1, 1), padding=(1, 1))\n",
       "    (1): BatchNorm2d(256, eps=1e-05, momentum=0.1, affine=True, track_running_stats=True)\n",
       "    (2): ReLU(inplace=True)\n",
       "    (3): MaxPool2d(kernel_size=2, stride=2, padding=0, dilation=1, ceil_mode=False)\n",
       "  )\n",
       "  (conv4): Sequential(\n",
       "    (0): Conv2d(256, 512, kernel_size=(3, 3), stride=(1, 1), padding=(1, 1))\n",
       "    (1): BatchNorm2d(512, eps=1e-05, momentum=0.1, affine=True, track_running_stats=True)\n",
       "    (2): ReLU(inplace=True)\n",
       "    (3): MaxPool2d(kernel_size=2, stride=2, padding=0, dilation=1, ceil_mode=False)\n",
       "  )\n",
       "  (res2): Sequential(\n",
       "    (0): Sequential(\n",
       "      (0): Conv2d(512, 512, kernel_size=(3, 3), stride=(1, 1), padding=(1, 1))\n",
       "      (1): BatchNorm2d(512, eps=1e-05, momentum=0.1, affine=True, track_running_stats=True)\n",
       "      (2): ReLU(inplace=True)\n",
       "    )\n",
       "    (1): Sequential(\n",
       "      (0): Conv2d(512, 512, kernel_size=(3, 3), stride=(1, 1), padding=(1, 1))\n",
       "      (1): BatchNorm2d(512, eps=1e-05, momentum=0.1, affine=True, track_running_stats=True)\n",
       "      (2): ReLU(inplace=True)\n",
       "    )\n",
       "  )\n",
       "  (conv5): Sequential(\n",
       "    (0): Conv2d(512, 1028, kernel_size=(3, 3), stride=(1, 1), padding=(1, 1))\n",
       "    (1): BatchNorm2d(1028, eps=1e-05, momentum=0.1, affine=True, track_running_stats=True)\n",
       "    (2): ReLU(inplace=True)\n",
       "    (3): MaxPool2d(kernel_size=2, stride=2, padding=0, dilation=1, ceil_mode=False)\n",
       "  )\n",
       "  (res3): Sequential(\n",
       "    (0): Sequential(\n",
       "      (0): Conv2d(1028, 1028, kernel_size=(3, 3), stride=(1, 1), padding=(1, 1))\n",
       "      (1): BatchNorm2d(1028, eps=1e-05, momentum=0.1, affine=True, track_running_stats=True)\n",
       "      (2): ReLU(inplace=True)\n",
       "    )\n",
       "    (1): Sequential(\n",
       "      (0): Conv2d(1028, 1028, kernel_size=(3, 3), stride=(1, 1), padding=(1, 1))\n",
       "      (1): BatchNorm2d(1028, eps=1e-05, momentum=0.1, affine=True, track_running_stats=True)\n",
       "      (2): ReLU(inplace=True)\n",
       "    )\n",
       "  )\n",
       "  (classifier): Sequential(\n",
       "    (0): MaxPool2d(kernel_size=2, stride=2, padding=0, dilation=1, ceil_mode=False)\n",
       "    (1): Flatten(start_dim=1, end_dim=-1)\n",
       "    (2): Linear(in_features=1028, out_features=100, bias=True)\n",
       "  )\n",
       ")"
      ]
     },
     "execution_count": 9,
     "metadata": {},
     "output_type": "execute_result"
    }
   ],
   "source": [
    "def accuracy(outputs, labels):\n",
    "    _, preds = torch.max(outputs, dim=1)\n",
    "    return torch.tensor(torch.sum(preds == labels).item() / len(preds))\n",
    "\n",
    "class ImageClassificationBase(nn.Module):\n",
    "    def training_step(self, batch):\n",
    "        images, labels = batch \n",
    "        out = self(images)                  # Generate predictions\n",
    "        loss = F.cross_entropy(out, labels) # Calculate loss\n",
    "        return loss\n",
    "    \n",
    "    def validation_step(self, batch):\n",
    "        images, labels = batch \n",
    "        out = self(images)                    # Generate predictions\n",
    "        loss = F.cross_entropy(out, labels)   # Calculate loss\n",
    "        acc = accuracy(out, labels)           # Calculate accuracy\n",
    "        return {'val_loss': loss.detach(), 'val_acc': acc}\n",
    "        \n",
    "    def validation_epoch_end(self, outputs):\n",
    "        batch_losses = [x['val_loss'] for x in outputs]\n",
    "        epoch_loss = torch.stack(batch_losses).mean()   # Combine losses\n",
    "        batch_accs = [x['val_acc'] for x in outputs]\n",
    "        epoch_acc = torch.stack(batch_accs).mean()      # Combine accuracies\n",
    "        return {'val_loss': epoch_loss.item(), 'val_acc': epoch_acc.item()}\n",
    "    \n",
    "    def epoch_end(self, epoch, result):\n",
    "        print(\"Epoch [{}], last_lr: {:.5f}, train_loss: {:.4f}, val_loss: {:.4f}, val_acc: {:.4f}\".format(\n",
    "            epoch, result['lrs'][-1], result['train_loss'], result['val_loss'], result['val_acc']))\n",
    "        \n",
    "def conv_block(in_channels, out_channels, pool=False):\n",
    "    layers = [nn.Conv2d(in_channels, out_channels, kernel_size=3, padding=1), \n",
    "              nn.BatchNorm2d(out_channels), \n",
    "              nn.ReLU(inplace=True)]\n",
    "    if pool: layers.append(nn.MaxPool2d(2))\n",
    "    return nn.Sequential(*layers)\n",
    "\n",
    "class ResNet9(ImageClassificationBase):\n",
    "    def __init__(self, in_channels, num_classes):\n",
    "        super().__init__()\n",
    "        \n",
    "        self.conv1 = conv_block(in_channels, 64)\n",
    "        self.conv2 = conv_block(64, 128, pool=True) \n",
    "        self.res1 = nn.Sequential(conv_block(128, 128), conv_block(128, 128)) \n",
    "        \n",
    "        self.conv3 = conv_block(128, 256, pool=True)\n",
    "        self.conv4 = conv_block(256, 512, pool=True) \n",
    "        self.res2 = nn.Sequential(conv_block(512, 512), conv_block(512, 512)) \n",
    "        self.conv5 = conv_block(512, 1028, pool=True) \n",
    "        self.res3 = nn.Sequential(conv_block(1028, 1028), conv_block(1028, 1028))  \n",
    "        \n",
    "        self.classifier = nn.Sequential(nn.MaxPool2d(2), # 1028 x 1 x 1\n",
    "                                        nn.Flatten(), # 1028 \n",
    "                                        nn.Linear(1028, num_classes)) # 1028 -> 100\n",
    "        \n",
    "    def forward(self, xb):\n",
    "        out = self.conv1(xb)\n",
    "        out = self.conv2(out)\n",
    "        out = self.res1(out) + out\n",
    "        out = self.conv3(out)\n",
    "        out = self.conv4(out)\n",
    "        out = self.res2(out) + out\n",
    "        out = self.conv5(out)\n",
    "        out = self.res3(out) + out\n",
    "        out = self.classifier(out)\n",
    "        return out\n",
    "\n",
    "model = to_device(ResNet9(3, 100), device)\n",
    "model"
   ]
  },
  {
   "cell_type": "markdown",
   "id": "81b0bad3-d936-4c95-8a3a-8a29842e650b",
   "metadata": {},
   "source": [
    "Training Setup"
   ]
  },
  {
   "cell_type": "code",
   "execution_count": 10,
   "id": "d140997c-bbb6-4445-a461-7e5c151a7e28",
   "metadata": {},
   "outputs": [],
   "source": [
    "@torch.no_grad()\n",
    "def evaluate(model, test_loader):\n",
    "    model.eval()\n",
    "    outputs = [model.validation_step(batch) for batch in test_loader]\n",
    "    return model.validation_epoch_end(outputs)\n",
    "\n",
    "def get_lr(optimizer):\n",
    "    for param_group in optimizer.param_groups:\n",
    "        return param_group['lr']\n",
    "\n",
    "def fit_one_cycle(epochs, max_lr, model, train_loader, test_loader, \n",
    "                  weight_decay=0, grad_clip=None, opt_func=torch.optim.SGD):\n",
    "    torch.cuda.empty_cache()\n",
    "    history = []\n",
    "    \n",
    "    # Set up cutom optimizer with weight decay\n",
    "    optimizer = opt_func(model.parameters(), max_lr, weight_decay=weight_decay)\n",
    "    # Set up one-cycle learning rate scheduler\n",
    "    sched = torch.optim.lr_scheduler.OneCycleLR(optimizer, max_lr, epochs=epochs, \n",
    "                                                steps_per_epoch=len(train_loader))\n",
    "    \n",
    "    for epoch in range(epochs):\n",
    "        # Training Phase \n",
    "        model.train()\n",
    "        train_losses = []\n",
    "        lrs = []\n",
    "        for batch in train_loader:\n",
    "            loss = model.training_step(batch)\n",
    "            train_losses.append(loss)\n",
    "            loss.backward()\n",
    "            \n",
    "            # Gradient clipping\n",
    "            if grad_clip: \n",
    "                nn.utils.clip_grad_value_(model.parameters(), grad_clip)\n",
    "            \n",
    "            optimizer.step()\n",
    "            optimizer.zero_grad()\n",
    "            \n",
    "            # Record & update learning rate\n",
    "            lrs.append(get_lr(optimizer))\n",
    "            sched.step()\n",
    "        \n",
    "        # Validation phase\n",
    "        result = evaluate(model, test_loader)\n",
    "        result['train_loss'] = torch.stack(train_losses).mean().item()\n",
    "        result['lrs'] = lrs\n",
    "        model.epoch_end(epoch, result)\n",
    "        history.append(result)\n",
    "    return history"
   ]
  },
  {
   "cell_type": "code",
   "execution_count": 11,
   "id": "f3b02208-4e3c-4134-8dfa-29f8d60e9cca",
   "metadata": {},
   "outputs": [
    {
     "data": {
      "text/plain": [
       "[{'val_loss': 4.605484485626221, 'val_acc': 0.010192308574914932}]"
      ]
     },
     "execution_count": 11,
     "metadata": {},
     "output_type": "execute_result"
    }
   ],
   "source": [
    "# Initial evaluation\n",
    "history = [evaluate(model, testloader)]\n",
    "history"
   ]
  },
  {
   "cell_type": "code",
   "execution_count": 12,
   "id": "0fee13f8-dd13-4f06-b89b-0e64912f03d9",
   "metadata": {},
   "outputs": [
    {
     "name": "stdout",
     "output_type": "stream",
     "text": [
      "Epoch [0], last_lr: 0.00007, train_loss: 3.6343, val_loss: 3.0851, val_acc: 0.2503\n",
      "Epoch [1], last_lr: 0.00015, train_loss: 2.8836, val_loss: 2.8040, val_acc: 0.3037\n",
      "Epoch [2], last_lr: 0.00028, train_loss: 2.5394, val_loss: 2.7703, val_acc: 0.3135\n",
      "Epoch [3], last_lr: 0.00044, train_loss: 2.3089, val_loss: 2.6356, val_acc: 0.3336\n",
      "Epoch [4], last_lr: 0.00060, train_loss: 2.1006, val_loss: 2.5314, val_acc: 0.3738\n",
      "Epoch [5], last_lr: 0.00076, train_loss: 1.9251, val_loss: 2.2543, val_acc: 0.4099\n",
      "Epoch [6], last_lr: 0.00089, train_loss: 1.7773, val_loss: 2.4612, val_acc: 0.3847\n",
      "Epoch [7], last_lr: 0.00097, train_loss: 1.6383, val_loss: 2.0161, val_acc: 0.4799\n",
      "Epoch [8], last_lr: 0.00100, train_loss: 1.5090, val_loss: 1.9897, val_acc: 0.4797\n",
      "Epoch [9], last_lr: 0.00099, train_loss: 1.3795, val_loss: 1.9843, val_acc: 0.4828\n",
      "Epoch [10], last_lr: 0.00098, train_loss: 1.2874, val_loss: 2.1877, val_acc: 0.4513\n",
      "Epoch [11], last_lr: 0.00095, train_loss: 1.1905, val_loss: 1.8098, val_acc: 0.5316\n",
      "Epoch [12], last_lr: 0.00091, train_loss: 1.1152, val_loss: 1.6174, val_acc: 0.5538\n",
      "Epoch [13], last_lr: 0.00087, train_loss: 1.0372, val_loss: 1.6036, val_acc: 0.5683\n",
      "Epoch [14], last_lr: 0.00081, train_loss: 0.9744, val_loss: 1.6048, val_acc: 0.5649\n",
      "Epoch [15], last_lr: 0.00075, train_loss: 0.8946, val_loss: 1.4880, val_acc: 0.5959\n",
      "Epoch [16], last_lr: 0.00068, train_loss: 0.8278, val_loss: 1.4724, val_acc: 0.6042\n",
      "Epoch [17], last_lr: 0.00061, train_loss: 0.7440, val_loss: 1.3428, val_acc: 0.6348\n",
      "Epoch [18], last_lr: 0.00054, train_loss: 0.6634, val_loss: 1.3143, val_acc: 0.6298\n",
      "Epoch [19], last_lr: 0.00046, train_loss: 0.5970, val_loss: 1.2725, val_acc: 0.6504\n",
      "Epoch [20], last_lr: 0.00039, train_loss: 0.4925, val_loss: 1.2043, val_acc: 0.6701\n",
      "Epoch [21], last_lr: 0.00032, train_loss: 0.4066, val_loss: 1.1521, val_acc: 0.6831\n",
      "Epoch [22], last_lr: 0.00025, train_loss: 0.3237, val_loss: 1.1771, val_acc: 0.6938\n",
      "Epoch [23], last_lr: 0.00019, train_loss: 0.2402, val_loss: 1.0849, val_acc: 0.7075\n",
      "Epoch [24], last_lr: 0.00013, train_loss: 0.1664, val_loss: 1.0169, val_acc: 0.7304\n",
      "Epoch [25], last_lr: 0.00009, train_loss: 0.1164, val_loss: 1.0091, val_acc: 0.7351\n",
      "Epoch [26], last_lr: 0.00005, train_loss: 0.0796, val_loss: 0.9888, val_acc: 0.7434\n",
      "Epoch [27], last_lr: 0.00002, train_loss: 0.0596, val_loss: 0.9831, val_acc: 0.7457\n",
      "Epoch [28], last_lr: 0.00001, train_loss: 0.0489, val_loss: 0.9829, val_acc: 0.7463\n",
      "Epoch [29], last_lr: 0.00000, train_loss: 0.0441, val_loss: 0.9841, val_acc: 0.7460\n"
     ]
    }
   ],
   "source": [
    "# Fitting the first 1/4 epochs\n",
    "current_time=time.time()\n",
    "history += fit_one_cycle(int(epochs/4), max_lr, model, trainloader, testloader, \n",
    "                             grad_clip=grad_clip, \n",
    "                             weight_decay=weight_decay, \n",
    "                             opt_func=opt_func)"
   ]
  },
  {
   "cell_type": "code",
   "execution_count": 13,
   "id": "b79684d1-d549-4479-bab3-5d72d96f5ffa",
   "metadata": {},
   "outputs": [
    {
     "name": "stdout",
     "output_type": "stream",
     "text": [
      "Epoch [0], last_lr: 0.00001, train_loss: 0.0454, val_loss: 0.9858, val_acc: 0.7469\n",
      "Epoch [1], last_lr: 0.00002, train_loss: 0.0441, val_loss: 0.9925, val_acc: 0.7443\n",
      "Epoch [2], last_lr: 0.00003, train_loss: 0.0442, val_loss: 1.0132, val_acc: 0.7417\n",
      "Epoch [3], last_lr: 0.00004, train_loss: 0.0447, val_loss: 1.0394, val_acc: 0.7379\n",
      "Epoch [4], last_lr: 0.00006, train_loss: 0.0523, val_loss: 1.0639, val_acc: 0.7312\n",
      "Epoch [5], last_lr: 0.00008, train_loss: 0.0659, val_loss: 1.1017, val_acc: 0.7190\n",
      "Epoch [6], last_lr: 0.00009, train_loss: 0.0846, val_loss: 1.1911, val_acc: 0.7056\n",
      "Epoch [7], last_lr: 0.00010, train_loss: 0.0957, val_loss: 1.1909, val_acc: 0.7057\n",
      "Epoch [8], last_lr: 0.00010, train_loss: 0.0951, val_loss: 1.1824, val_acc: 0.7108\n",
      "Epoch [9], last_lr: 0.00010, train_loss: 0.0888, val_loss: 1.1858, val_acc: 0.7076\n",
      "Epoch [10], last_lr: 0.00010, train_loss: 0.0806, val_loss: 1.1930, val_acc: 0.7071\n",
      "Epoch [11], last_lr: 0.00010, train_loss: 0.0719, val_loss: 1.1975, val_acc: 0.7067\n",
      "Epoch [12], last_lr: 0.00009, train_loss: 0.0627, val_loss: 1.1898, val_acc: 0.7086\n",
      "Epoch [13], last_lr: 0.00009, train_loss: 0.0568, val_loss: 1.1254, val_acc: 0.7246\n",
      "Epoch [14], last_lr: 0.00008, train_loss: 0.0494, val_loss: 1.1473, val_acc: 0.7239\n",
      "Epoch [15], last_lr: 0.00008, train_loss: 0.0441, val_loss: 1.1225, val_acc: 0.7257\n",
      "Epoch [16], last_lr: 0.00007, train_loss: 0.0342, val_loss: 1.1220, val_acc: 0.7294\n",
      "Epoch [17], last_lr: 0.00006, train_loss: 0.0288, val_loss: 1.1240, val_acc: 0.7342\n",
      "Epoch [18], last_lr: 0.00005, train_loss: 0.0266, val_loss: 1.1023, val_acc: 0.7334\n",
      "Epoch [19], last_lr: 0.00005, train_loss: 0.0197, val_loss: 1.0932, val_acc: 0.7375\n",
      "Epoch [20], last_lr: 0.00004, train_loss: 0.0178, val_loss: 1.0888, val_acc: 0.7397\n",
      "Epoch [21], last_lr: 0.00003, train_loss: 0.0146, val_loss: 1.0758, val_acc: 0.7397\n",
      "Epoch [22], last_lr: 0.00003, train_loss: 0.0130, val_loss: 1.0701, val_acc: 0.7438\n",
      "Epoch [23], last_lr: 0.00002, train_loss: 0.0112, val_loss: 1.0611, val_acc: 0.7449\n",
      "Epoch [24], last_lr: 0.00001, train_loss: 0.0105, val_loss: 1.0619, val_acc: 0.7441\n",
      "Epoch [25], last_lr: 0.00001, train_loss: 0.0093, val_loss: 1.0607, val_acc: 0.7434\n",
      "Epoch [26], last_lr: 0.00000, train_loss: 0.0086, val_loss: 1.0581, val_acc: 0.7438\n",
      "Epoch [27], last_lr: 0.00000, train_loss: 0.0083, val_loss: 1.0575, val_acc: 0.7437\n",
      "Epoch [28], last_lr: 0.00000, train_loss: 0.0083, val_loss: 1.0566, val_acc: 0.7459\n",
      "Epoch [29], last_lr: 0.00000, train_loss: 0.0075, val_loss: 1.0548, val_acc: 0.7452\n"
     ]
    }
   ],
   "source": [
    "# Fitting the second 1/4 epochs\n",
    "history += fit_one_cycle(int(epochs/4), max_lr/10, model, trainloader, testloader, \n",
    "                             grad_clip=grad_clip, \n",
    "                             weight_decay=weight_decay, \n",
    "                             opt_func=opt_func)"
   ]
  },
  {
   "cell_type": "code",
   "execution_count": 14,
   "id": "9147f93f-1fbd-41a6-850f-6f429c4a5d78",
   "metadata": {},
   "outputs": [
    {
     "name": "stdout",
     "output_type": "stream",
     "text": [
      "Epoch [0], last_lr: 0.00000, train_loss: 0.0079, val_loss: 1.0556, val_acc: 0.7450\n",
      "Epoch [1], last_lr: 0.00000, train_loss: 0.0079, val_loss: 1.0561, val_acc: 0.7465\n",
      "Epoch [2], last_lr: 0.00001, train_loss: 0.0087, val_loss: 1.0551, val_acc: 0.7444\n",
      "Epoch [3], last_lr: 0.00001, train_loss: 0.0086, val_loss: 1.0584, val_acc: 0.7433\n",
      "Epoch [4], last_lr: 0.00001, train_loss: 0.0089, val_loss: 1.0615, val_acc: 0.7426\n",
      "Epoch [5], last_lr: 0.00001, train_loss: 0.0090, val_loss: 1.0550, val_acc: 0.7434\n",
      "Epoch [6], last_lr: 0.00001, train_loss: 0.0087, val_loss: 1.0566, val_acc: 0.7436\n",
      "Epoch [7], last_lr: 0.00001, train_loss: 0.0085, val_loss: 1.0561, val_acc: 0.7436\n",
      "Epoch [8], last_lr: 0.00001, train_loss: 0.0086, val_loss: 1.0526, val_acc: 0.7449\n",
      "Epoch [9], last_lr: 0.00000, train_loss: 0.0078, val_loss: 1.0531, val_acc: 0.7468\n",
      "Epoch [10], last_lr: 0.00000, train_loss: 0.0077, val_loss: 1.0484, val_acc: 0.7477\n",
      "Epoch [11], last_lr: 0.00000, train_loss: 0.0074, val_loss: 1.0496, val_acc: 0.7463\n",
      "Epoch [12], last_lr: 0.00000, train_loss: 0.0069, val_loss: 1.0493, val_acc: 0.7471\n",
      "Epoch [13], last_lr: 0.00000, train_loss: 0.0071, val_loss: 1.0469, val_acc: 0.7472\n",
      "Epoch [14], last_lr: 0.00000, train_loss: 0.0069, val_loss: 1.0471, val_acc: 0.7462\n"
     ]
    }
   ],
   "source": [
    "history += fit_one_cycle(int(epochs/8), max_lr/100, model, trainloader, testloader, \n",
    "                             grad_clip=grad_clip, \n",
    "                             weight_decay=weight_decay, \n",
    "                             opt_func=opt_func)"
   ]
  },
  {
   "cell_type": "code",
   "execution_count": 15,
   "id": "7a5933f1-b75b-4c6c-acd7-7185c0f5da8b",
   "metadata": {},
   "outputs": [
    {
     "name": "stdout",
     "output_type": "stream",
     "text": [
      "Epoch [0], last_lr: 0.00000, train_loss: 0.0068, val_loss: 1.0488, val_acc: 0.7461\n",
      "Epoch [1], last_lr: 0.00000, train_loss: 0.0069, val_loss: 1.0476, val_acc: 0.7453\n",
      "Epoch [2], last_lr: 0.00000, train_loss: 0.0070, val_loss: 1.0486, val_acc: 0.7463\n",
      "Epoch [3], last_lr: 0.00000, train_loss: 0.0069, val_loss: 1.0490, val_acc: 0.7468\n",
      "Epoch [4], last_lr: 0.00000, train_loss: 0.0069, val_loss: 1.0461, val_acc: 0.7465\n",
      "Epoch [5], last_lr: 0.00000, train_loss: 0.0069, val_loss: 1.0481, val_acc: 0.7462\n",
      "Epoch [6], last_lr: 0.00000, train_loss: 0.0069, val_loss: 1.0473, val_acc: 0.7463\n",
      "Epoch [7], last_lr: 0.00000, train_loss: 0.0067, val_loss: 1.0452, val_acc: 0.7456\n",
      "Epoch [8], last_lr: 0.00000, train_loss: 0.0065, val_loss: 1.0469, val_acc: 0.7454\n",
      "Epoch [9], last_lr: 0.00000, train_loss: 0.0067, val_loss: 1.0481, val_acc: 0.7458\n",
      "Epoch [10], last_lr: 0.00000, train_loss: 0.0065, val_loss: 1.0478, val_acc: 0.7462\n",
      "Epoch [11], last_lr: 0.00000, train_loss: 0.0067, val_loss: 1.0465, val_acc: 0.7460\n",
      "Epoch [12], last_lr: 0.00000, train_loss: 0.0068, val_loss: 1.0457, val_acc: 0.7467\n",
      "Epoch [13], last_lr: 0.00000, train_loss: 0.0065, val_loss: 1.0460, val_acc: 0.7451\n",
      "Epoch [14], last_lr: 0.00000, train_loss: 0.0065, val_loss: 1.0477, val_acc: 0.7457\n"
     ]
    }
   ],
   "source": [
    "history += fit_one_cycle(int(epochs/8), max_lr/1000, model, trainloader, testloader, \n",
    "                             grad_clip=grad_clip, \n",
    "                             weight_decay=weight_decay, \n",
    "                             opt_func=opt_func)"
   ]
  },
  {
   "cell_type": "code",
   "execution_count": 16,
   "id": "c5ad3875-5f72-4724-9a81-953132ed930b",
   "metadata": {},
   "outputs": [
    {
     "name": "stdout",
     "output_type": "stream",
     "text": [
      "Epoch [0], last_lr: 0.00000, train_loss: 0.0065, val_loss: 1.0465, val_acc: 0.7457\n",
      "Epoch [1], last_lr: 0.00000, train_loss: 0.0063, val_loss: 1.0453, val_acc: 0.7464\n",
      "Epoch [2], last_lr: 0.00000, train_loss: 0.0065, val_loss: 1.0461, val_acc: 0.7459\n",
      "Epoch [3], last_lr: 0.00000, train_loss: 0.0066, val_loss: 1.0479, val_acc: 0.7465\n",
      "Epoch [4], last_lr: 0.00001, train_loss: 0.0072, val_loss: 1.0483, val_acc: 0.7463\n",
      "Epoch [5], last_lr: 0.00001, train_loss: 0.0075, val_loss: 1.0475, val_acc: 0.7445\n",
      "Epoch [6], last_lr: 0.00001, train_loss: 0.0082, val_loss: 1.0492, val_acc: 0.7447\n",
      "Epoch [7], last_lr: 0.00001, train_loss: 0.0088, val_loss: 1.0453, val_acc: 0.7447\n",
      "Epoch [8], last_lr: 0.00001, train_loss: 0.0097, val_loss: 1.0516, val_acc: 0.7438\n",
      "Epoch [9], last_lr: 0.00001, train_loss: 0.0091, val_loss: 1.0481, val_acc: 0.7442\n",
      "Epoch [10], last_lr: 0.00001, train_loss: 0.0090, val_loss: 1.0503, val_acc: 0.7462\n",
      "Epoch [11], last_lr: 0.00001, train_loss: 0.0090, val_loss: 1.0487, val_acc: 0.7464\n",
      "Epoch [12], last_lr: 0.00001, train_loss: 0.0088, val_loss: 1.0439, val_acc: 0.7457\n",
      "Epoch [13], last_lr: 0.00001, train_loss: 0.0090, val_loss: 1.0361, val_acc: 0.7463\n",
      "Epoch [14], last_lr: 0.00001, train_loss: 0.0079, val_loss: 1.0370, val_acc: 0.7469\n",
      "Epoch [15], last_lr: 0.00001, train_loss: 0.0082, val_loss: 1.0365, val_acc: 0.7444\n",
      "Epoch [16], last_lr: 0.00001, train_loss: 0.0076, val_loss: 1.0390, val_acc: 0.7480\n",
      "Epoch [17], last_lr: 0.00001, train_loss: 0.0075, val_loss: 1.0369, val_acc: 0.7462\n",
      "Epoch [18], last_lr: 0.00001, train_loss: 0.0076, val_loss: 1.0384, val_acc: 0.7465\n",
      "Epoch [19], last_lr: 0.00000, train_loss: 0.0075, val_loss: 1.0368, val_acc: 0.7483\n",
      "Epoch [20], last_lr: 0.00000, train_loss: 0.0072, val_loss: 1.0356, val_acc: 0.7480\n",
      "Epoch [21], last_lr: 0.00000, train_loss: 0.0069, val_loss: 1.0335, val_acc: 0.7482\n",
      "Epoch [22], last_lr: 0.00000, train_loss: 0.0069, val_loss: 1.0345, val_acc: 0.7495\n",
      "Epoch [23], last_lr: 0.00000, train_loss: 0.0067, val_loss: 1.0351, val_acc: 0.7477\n",
      "Epoch [24], last_lr: 0.00000, train_loss: 0.0068, val_loss: 1.0343, val_acc: 0.7494\n",
      "Epoch [25], last_lr: 0.00000, train_loss: 0.0065, val_loss: 1.0335, val_acc: 0.7487\n",
      "Epoch [26], last_lr: 0.00000, train_loss: 0.0066, val_loss: 1.0325, val_acc: 0.7482\n",
      "Epoch [27], last_lr: 0.00000, train_loss: 0.0064, val_loss: 1.0336, val_acc: 0.7485\n",
      "Epoch [28], last_lr: 0.00000, train_loss: 0.0065, val_loss: 1.0325, val_acc: 0.7489\n",
      "Epoch [29], last_lr: 0.00000, train_loss: 0.0064, val_loss: 1.0335, val_acc: 0.7481\n",
      "Training time: 2820.17 s\n"
     ]
    }
   ],
   "source": [
    "history += fit_one_cycle(int(epochs/4), max_lr/100, model, trainloader, testloader, \n",
    "                             grad_clip=grad_clip, \n",
    "                             weight_decay=weight_decay, \n",
    "                             opt_func=opt_func)\n",
    "# Print training time\n",
    "print('Training time: {:.2f} s'.format(time.time() - current_time))"
   ]
  },
  {
   "cell_type": "markdown",
   "id": "c132e3f0-c158-482a-bb12-aa51d4bcdcd2",
   "metadata": {},
   "source": [
    "Prediction"
   ]
  },
  {
   "cell_type": "code",
   "execution_count": 17,
   "id": "a6d9aced-2178-41f6-8b22-6041e4774806",
   "metadata": {},
   "outputs": [
    {
     "name": "stdout",
     "output_type": "stream",
     "text": [
      "Training time: 6.25 s\n"
     ]
    }
   ],
   "source": [
    "# Collect training time and result\n",
    "current_time = time.time()\n",
    "result = evaluate(model, testloader)\n",
    "result\n",
    "print('Training time: {:.2f} s'.format(time.time() - current_time))"
   ]
  },
  {
   "cell_type": "code",
   "execution_count": 18,
   "id": "8627f852-03a2-4b19-808e-26194b4bac6e",
   "metadata": {},
   "outputs": [],
   "source": [
    "# Saving the model to h5 file\n",
    "#torch.save(model.state_dict(), 'group22_pretrained_model.h5')"
   ]
  },
  {
   "cell_type": "code",
   "execution_count": 19,
   "id": "eb753fcc-416b-4a90-9449-341e9d8e7b18",
   "metadata": {},
   "outputs": [
    {
     "name": "stdout",
     "output_type": "stream",
     "text": [
      "Confusion matrix:\n",
      "[[89  0  0 ...  0  0  0]\n",
      " [ 0 85  0 ...  0  0  0]\n",
      " [ 0  0 62 ...  0  2  0]\n",
      " ...\n",
      " [ 0  0  0 ... 85  0  0]\n",
      " [ 0  0  5 ...  0 53  0]\n",
      " [ 0  0  0 ...  0  0 77]]\n",
      "              precision    recall  f1-score   support\n",
      "\n",
      "           0       0.88      0.89      0.89       100\n",
      "           1       0.83      0.85      0.84       100\n",
      "           2       0.65      0.62      0.64       100\n",
      "           3       0.71      0.61      0.66       100\n",
      "           4       0.52      0.61      0.56       100\n",
      "           5       0.82      0.80      0.81       100\n",
      "           6       0.76      0.83      0.79       100\n",
      "           7       0.83      0.77      0.80       100\n",
      "           8       0.88      0.88      0.88       100\n",
      "           9       0.86      0.85      0.85       100\n",
      "          10       0.67      0.57      0.62       100\n",
      "          11       0.51      0.52      0.52       100\n",
      "          12       0.75      0.82      0.78       100\n",
      "          13       0.72      0.61      0.66       100\n",
      "          14       0.69      0.67      0.68       100\n",
      "          15       0.78      0.80      0.79       100\n",
      "          16       0.75      0.76      0.75       100\n",
      "          17       0.85      0.88      0.86       100\n",
      "          18       0.67      0.68      0.68       100\n",
      "          19       0.77      0.72      0.74       100\n",
      "          20       0.85      0.88      0.86       100\n",
      "          21       0.81      0.92      0.86       100\n",
      "          22       0.81      0.77      0.79       100\n",
      "          23       0.79      0.81      0.80       100\n",
      "          24       0.90      0.82      0.86       100\n",
      "          25       0.72      0.64      0.68       100\n",
      "          26       0.70      0.71      0.70       100\n",
      "          27       0.66      0.62      0.64       100\n",
      "          28       0.83      0.80      0.82       100\n",
      "          29       0.78      0.68      0.73       100\n",
      "          30       0.72      0.70      0.71       100\n",
      "          31       0.79      0.78      0.78       100\n",
      "          32       0.74      0.67      0.71       100\n",
      "          33       0.73      0.66      0.69       100\n",
      "          34       0.77      0.79      0.78       100\n",
      "          35       0.51      0.52      0.51       100\n",
      "          36       0.83      0.84      0.84       100\n",
      "          37       0.83      0.74      0.78       100\n",
      "          38       0.71      0.70      0.71       100\n",
      "          39       0.89      0.86      0.87       100\n",
      "          40       0.64      0.72      0.68       100\n",
      "          41       0.93      0.90      0.91       100\n",
      "          42       0.80      0.78      0.79       100\n",
      "          43       0.82      0.83      0.83       100\n",
      "          44       0.50      0.53      0.52       100\n",
      "          45       0.63      0.69      0.66       100\n",
      "          46       0.53      0.48      0.51       100\n",
      "          47       0.63      0.72      0.67       100\n",
      "          48       0.84      0.95      0.89       100\n",
      "          49       0.76      0.87      0.81       100\n",
      "          50       0.64      0.58      0.61       100\n",
      "          51       0.83      0.79      0.81       100\n",
      "          52       0.63      0.66      0.64       100\n",
      "          53       0.84      0.90      0.87       100\n",
      "          54       0.74      0.90      0.81       100\n",
      "          55       0.52      0.46      0.49       100\n",
      "          56       0.93      0.91      0.92       100\n",
      "          57       0.73      0.79      0.76       100\n",
      "          58       0.86      0.86      0.86       100\n",
      "          59       0.72      0.68      0.70       100\n",
      "          60       0.85      0.88      0.86       100\n",
      "          61       0.76      0.73      0.74       100\n",
      "          62       0.68      0.75      0.71       100\n",
      "          63       0.77      0.79      0.78       100\n",
      "          64       0.69      0.53      0.60       100\n",
      "          65       0.65      0.64      0.65       100\n",
      "          66       0.80      0.82      0.81       100\n",
      "          67       0.68      0.63      0.65       100\n",
      "          68       0.90      0.93      0.92       100\n",
      "          69       0.81      0.79      0.80       100\n",
      "          70       0.78      0.73      0.76       100\n",
      "          71       0.80      0.79      0.79       100\n",
      "          72       0.55      0.46      0.50       100\n",
      "          73       0.59      0.61      0.60       100\n",
      "          74       0.59      0.60      0.60       100\n",
      "          75       0.87      0.90      0.88       100\n",
      "          76       0.88      0.94      0.91       100\n",
      "          77       0.74      0.72      0.73       100\n",
      "          78       0.59      0.63      0.61       100\n",
      "          79       0.77      0.83      0.80       100\n",
      "          80       0.61      0.59      0.60       100\n",
      "          81       0.73      0.80      0.77       100\n",
      "          82       0.96      0.91      0.93       100\n",
      "          83       0.78      0.70      0.74       100\n",
      "          84       0.74      0.73      0.73       100\n",
      "          85       0.80      0.86      0.83       100\n",
      "          86       0.82      0.76      0.79       100\n",
      "          87       0.78      0.88      0.83       100\n",
      "          88       0.82      0.79      0.81       100\n",
      "          89       0.84      0.87      0.86       100\n",
      "          90       0.79      0.84      0.82       100\n",
      "          91       0.79      0.86      0.82       100\n",
      "          92       0.68      0.67      0.67       100\n",
      "          93       0.63      0.64      0.63       100\n",
      "          94       0.85      0.94      0.89       100\n",
      "          95       0.73      0.76      0.75       100\n",
      "          96       0.74      0.60      0.66       100\n",
      "          97       0.75      0.85      0.80       100\n",
      "          98       0.53      0.53      0.53       100\n",
      "          99       0.75      0.77      0.76       100\n",
      "\n",
      "    accuracy                           0.75     10000\n",
      "   macro avg       0.75      0.75      0.75     10000\n",
      "weighted avg       0.75      0.75      0.75     10000\n",
      "\n",
      "F1 score: 0.745643\n",
      "Recall score: 0.747000\n",
      "Accuracy score: 0.747000\n"
     ]
    }
   ],
   "source": [
    "# Generate testing accuracy, predicted label, confusion matrix, and table for classification report\n",
    "def test_label_predictions(model, device, test_loader):\n",
    "    model.eval()\n",
    "    actuals = []\n",
    "    predictions = []\n",
    "    with torch.no_grad():\n",
    "        for data, target in test_loader:\n",
    "            data, target = data.to(device), target.to(device)\n",
    "            output = model(data)\n",
    "            prediction = output.argmax(dim=1, keepdim=True)\n",
    "            actuals.extend(target.view_as(prediction))\n",
    "            predictions.extend(prediction)\n",
    "    return [i.item() for i in actuals], [i.item() for i in predictions]\n",
    "\n",
    "y_test, y_pred = test_label_predictions(model, device, testloader)\n",
    "cm=confusion_matrix(y_test, y_pred)\n",
    "cr=classification_report(y_test, y_pred)\n",
    "fs=f1_score(y_test,y_pred,average='weighted')\n",
    "rs=recall_score(y_test, y_pred,average='weighted')\n",
    "accuracy=accuracy_score(y_test, y_pred)\n",
    "print('Confusion matrix:')\n",
    "print(cm)\n",
    "print(cr)\n",
    "print('F1 score: %f' % fs)\n",
    "print('Recall score: %f' % rs)\n",
    "print('Accuracy score: %f' % accuracy)"
   ]
  },
  {
   "cell_type": "code",
   "execution_count": 20,
   "id": "dd33faea-5800-4b19-9d28-f45e58a42a82",
   "metadata": {},
   "outputs": [],
   "source": [
    "# Save classificationreport into csv\n",
    "report = classification_report(y_test, y_pred, output_dict = True)\n",
    "df=pd.DataFrame(report).transpose()\n",
    "df.to_csv('classificationreport.csv',index=False)"
   ]
  },
  {
   "cell_type": "code",
   "execution_count": 21,
   "id": "19819052-eb5e-4cf4-8d38-da4c7d304dae",
   "metadata": {},
   "outputs": [],
   "source": [
    "# Plot classification report and save to pdf function\n",
    "def plot_classification(precision, recall, f1_score):\n",
    "    plt.rcParams['font.size'] = 12\n",
    "    plt.rc('axes', linewidth=1.75)\n",
    "    marker_size = 8\n",
    "    figsize = 6\n",
    "    plt.figure(figsize=(1.4 * figsize, figsize))\n",
    "    plt.subplot(3, 1, 1)\n",
    "    plt.plot(precision, 'o', markersize=marker_size)\n",
    "    # plt.legend(loc=0)\n",
    "    # plt.yticks(np.arange(0.5, 1.01, 0.1))\n",
    "    plt.ylabel('Precision', fontsize=14)\n",
    "    plt.xticks([])\n",
    "    plt.subplot(3, 1, 2)\n",
    "    plt.plot(recall, 'o', markersize=marker_size)\n",
    "    # plt.yticks(np.arange(0.5, 1.01, 0.1))\n",
    "    plt.ylabel('Recall', fontsize=14)\n",
    "    plt.xticks([])\n",
    "    plt.subplot(3, 1, 3)\n",
    "    plt.plot(f1_score, 'o', markersize=marker_size)\n",
    "    # plt.yticks(np.arange(0.5, 1.01, 0.1))\n",
    "    plt.ylabel('F1-score', fontsize=14)\n",
    "    plt.xlabel('Class', fontsize=14)\n",
    "    plt.subplots_adjust(hspace=0.001)\n",
    "    plt.tight_layout()\n",
    "    plt.savefig(\"classification.pdf\")"
   ]
  },
  {
   "cell_type": "code",
   "execution_count": 22,
   "id": "a55d2b9a-91f5-483d-a5cb-a83ac61d11a3",
   "metadata": {},
   "outputs": [],
   "source": [
    "# Plot classification report and save to pdf\n",
    "def plot_confusion_matrix(cm):\n",
    "    plt.figure()\n",
    "    plt.imshow(cm, interpolation='nearest', cmap=plt.get_cmap('Blues'))\n",
    "    plt.colorbar()\n",
    "    plt.ylabel('True label', fontsize=14)\n",
    "    plt.xlabel('Predicted label', fontsize=14)\n",
    "    plt.tight_layout()\n",
    "    plt.savefig(\"confusion_matrix.pdf\")\n",
    "    plt.show()"
   ]
  },
  {
   "cell_type": "code",
   "execution_count": 23,
   "id": "99671f04-bf86-4ece-a1c1-b7a517109882",
   "metadata": {},
   "outputs": [
    {
     "name": "stdout",
     "output_type": "stream",
     "text": [
      "Train accuracy: 0.999560\n"
     ]
    }
   ],
   "source": [
    "# Obtain training accuracy\n",
    "y_train, y_pred2 = test_label_predictions(model, device, trainloader)\n",
    "train_accuracy=accuracy_score(y_train, y_pred2)\n",
    "print('Train accuracy: %f' % train_accuracy)"
   ]
  },
  {
   "cell_type": "code",
   "execution_count": 24,
   "id": "2675059f-23cd-411c-bbcf-1e5b16514e69",
   "metadata": {},
   "outputs": [
    {
     "name": "stdout",
     "output_type": "stream",
     "text": [
      "[0.89 0.85 0.62 0.61 0.61 0.8  0.83 0.77 0.88 0.85 0.57 0.52 0.82 0.61\n",
      " 0.67 0.8  0.76 0.88 0.68 0.72 0.88 0.92 0.77 0.81 0.82 0.64 0.71 0.62\n",
      " 0.8  0.68 0.7  0.78 0.67 0.66 0.79 0.52 0.84 0.74 0.7  0.86 0.72 0.9\n",
      " 0.78 0.83 0.53 0.69 0.48 0.72 0.95 0.87 0.58 0.79 0.66 0.9  0.9  0.46\n",
      " 0.91 0.79 0.86 0.68 0.88 0.73 0.75 0.79 0.53 0.64 0.82 0.63 0.93 0.79\n",
      " 0.73 0.79 0.46 0.61 0.6  0.9  0.94 0.72 0.63 0.83 0.59 0.8  0.91 0.7\n",
      " 0.73 0.86 0.76 0.88 0.79 0.87 0.84 0.86 0.67 0.64 0.94 0.76 0.6  0.85\n",
      " 0.53 0.77]\n"
     ]
    },
    {
     "data": {
      "image/png": "[encoded data removed]",
      "text/plain": [
       "<Figure size 840x600 with 3 Axes>"
      ]
     },
     "metadata": {},
     "output_type": "display_data"
    },
    {
     "data": {
      "image/png": "[encoded data removed]",
      "text/plain": [
       "<Figure size 640x480 with 2 Axes>"
      ]
     },
     "metadata": {},
     "output_type": "display_data"
    }
   ],
   "source": [
    "# Plot and save confusion matrix\n",
    "precision, recall, f1,_= precision_recall_fscore_support(y_test, y_pred)\n",
    "print(recall)\n",
    "plot_classification(precision, recall, f1)\n",
    "\n",
    "# Plot confusion matrix\n",
    "plot_confusion_matrix(cm)"
   ]
  },
  {
   "cell_type": "code",
   "execution_count": null,
   "id": "50af0c28-153a-4a4c-9b48-5f575bb51c33",
   "metadata": {},
   "outputs": [],
   "source": []
  }
 ],
 "metadata": {
  "kernelspec": {
   "display_name": "Python 3 (ipykernel)",
   "language": "python",
   "name": "python3"
  },
  "language_info": {
   "codemirror_mode": {
    "name": "ipython",
    "version": 3
   },
   "file_extension": ".py",
   "mimetype": "text/x-python",
   "name": "python",
   "nbconvert_exporter": "python",
   "pygments_lexer": "ipython3",
   "version": "3.12.4"
  }
 },
 "nbformat": 4,
 "nbformat_minor": 5
}
