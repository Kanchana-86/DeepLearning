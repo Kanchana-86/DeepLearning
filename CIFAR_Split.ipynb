{
 "cells": [
  {
   "cell_type": "code",
   "execution_count": 1,
   "id": "3eb4419b-9827-47d5-a25c-905ec82d0d3e",
   "metadata": {},
   "outputs": [],
   "source": [
    "import os\n",
    "import shutil\n",
    "from sklearn.model_selection import train_test_split"
   ]
  },
  {
   "cell_type": "code",
   "execution_count": 2,
   "id": "90c32362-216c-4539-b309-3631c33acc72",
   "metadata": {},
   "outputs": [],
   "source": [
    "# Path to the original train directory\n",
    "train_dir = r\"C:\\Users\\user\\Desktop\\6th Sem\\Deep Learning\\CIFAR -10\\CIFAR for CNN\\cifar10\\cifar10\\train\" # Directory containing the initial train dataset"
   ]
  },
  {
   "cell_type": "code",
   "execution_count": 3,
   "id": "a75835e7-3330-4309-8962-35df40eb7ad5",
   "metadata": {},
   "outputs": [],
   "source": [
    "# Paths to the new directories\n",
    "train1_dir = r\"C:\\Users\\user\\Desktop\\6th Sem\\Deep Learning\\CIFAR -10\\CIFAR for CNN\\cifar10\\cifar10\\train1\"  # New train directory with 70% data\n",
    "val_dir = r\"C:\\Users\\user\\Desktop\\6th Sem\\Deep Learning\\CIFAR -10\\CIFAR for CNN\\cifar10\\cifar10\\val\"      # Validation directory with 15% data\n",
    "test_dir = r\"C:\\Users\\user\\Desktop\\6th Sem\\Deep Learning\\CIFAR -10\\CIFAR for CNN\\cifar10\\cifar10\\test\"      # Test directory with 15% data"
   ]
  },
  {
   "cell_type": "code",
   "execution_count": 4,
   "id": "80443f2d-6482-4dbf-b737-779833d55114",
   "metadata": {},
   "outputs": [],
   "source": [
    "# Create directories\n",
    "os.makedirs(train1_dir, exist_ok=True)\n",
    "os.makedirs(val_dir, exist_ok=True)\n",
    "os.makedirs(test_dir, exist_ok=True)"
   ]
  },
  {
   "cell_type": "code",
   "execution_count": 5,
   "id": "0b91758d-255f-4876-accb-8cc36f2df005",
   "metadata": {},
   "outputs": [],
   "source": [
    "# Function to split the dataset\n",
    "def split_dataset(source_dir, train1_dir, val_dir, test_dir, train_ratio, val_ratio):\n",
    "    for class_folder in os.listdir(source_dir):\n",
    "        class_path = os.path.join(source_dir, class_folder)\n",
    "        if os.path.isdir(class_path):\n",
    "            # List all images in the class folder\n",
    "            images = [os.path.join(class_path, img) for img in os.listdir(class_path) if img.endswith(('jpg', 'png'))]\n",
    "\n",
    "            # Split images into train1, val, and test\n",
    "            train1_images, temp_images = train_test_split(images, test_size=(1 - train_ratio), random_state=42)\n",
    "            val_images, test_images = train_test_split(temp_images, test_size=(0.5), random_state=42)\n",
    "\n",
    "            # Create class subdirectories in the new folders\n",
    "            train1_class_dir = os.path.join(train1_dir, class_folder)\n",
    "            val_class_dir = os.path.join(val_dir, class_folder)\n",
    "            test_class_dir = os.path.join(test_dir, class_folder)\n",
    "            os.makedirs(train1_class_dir, exist_ok=True)\n",
    "            os.makedirs(val_class_dir, exist_ok=True)\n",
    "            os.makedirs(test_class_dir, exist_ok=True)\n",
    "\n",
    "            # Copy images to the new directories\n",
    "            for img in train1_images:\n",
    "                shutil.copy(img, train1_class_dir)\n",
    "            for img in val_images:\n",
    "                shutil.copy(img, val_class_dir)\n",
    "            for img in test_images:\n",
    "                shutil.copy(img, test_class_dir)"
   ]
  },
  {
   "cell_type": "code",
   "execution_count": 6,
   "id": "0a1eef1e-01a2-4924-9640-b386e14e0b19",
   "metadata": {},
   "outputs": [],
   "source": [
    "# Ratios for splitting\n",
    "train_ratio = 0.7  # 70% for train_1\n",
    "val_ratio = 0.15   # 15% for validation\n",
    "test_ratio = 0.15  # 15% for testing"
   ]
  },
  {
   "cell_type": "code",
   "execution_count": 7,
   "id": "f542e458-7328-4f4f-9713-633b690782be",
   "metadata": {},
   "outputs": [
    {
     "name": "stdout",
     "output_type": "stream",
     "text": [
      "Dataset successfully split into train_1, val, and test!\n"
     ]
    }
   ],
   "source": [
    "# Perform the split\n",
    "split_dataset(train_dir, train1_dir, val_dir, test_dir, train_ratio, val_ratio)\n",
    "\n",
    "print(\"Dataset successfully split into train_1, val, and test!\")"
   ]
  },
  {
   "cell_type": "code",
   "execution_count": null,
   "id": "66d0ea08-fa5c-496c-a16b-c10f30b5ff26",
   "metadata": {},
   "outputs": [],
   "source": []
  }
 ],
 "metadata": {
  "kernelspec": {
   "display_name": "Python 3 (ipykernel)",
   "language": "python",
   "name": "python3"
  },
  "language_info": {
   "codemirror_mode": {
    "name": "ipython",
    "version": 3
   },
   "file_extension": ".py",
   "mimetype": "text/x-python",
   "name": "python",
   "nbconvert_exporter": "python",
   "pygments_lexer": "ipython3",
   "version": "3.12.4"
  }
 },
 "nbformat": 4,
 "nbformat_minor": 5
}
